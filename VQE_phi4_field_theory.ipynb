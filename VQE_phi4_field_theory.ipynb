{
 "cells": [
  {
   "cell_type": "code",
   "execution_count": 383,
   "id": "52ae7294-0475-490a-b291-a432ed170459",
   "metadata": {},
   "outputs": [],
   "source": [
    "import numpy as np\n",
    "import scipy.sparse as sp\n",
    "import scipy.sparse.linalg as spla\n",
    "import itertools\n",
    "import math\n",
    "import pennylane as qml\n",
    "from pennylane import numpy as pnp\n",
    "import matplotlib.pyplot as plt\n",
    "\n",
    "# Parameters\n",
    "N= 2               # number of lattice sites (2,3,4...)\n",
    "d= 5               # finite dim \n",
    "m= 1             # mass\n",
    "lam= 0.5           # lambda (phi^4 coupling)\n",
    "omega= 1         # oscillator frequency\n",
    "periodic= True    # boundary conditions\n",
    "max_pauli_terms= 2000  \n"
   ]
  },
  {
   "cell_type": "code",
   "execution_count": 384,
   "id": "eef2e52b-3288-4cf7-aaee-a1ba5757dfce",
   "metadata": {},
   "outputs": [
    {
     "name": "stdout",
     "output_type": "stream",
     "text": [
      "<Compressed Sparse Row sparse matrix of dtype 'complex128'\n",
      "\twith 4 stored elements and shape (5, 5)>\n",
      "  Coords\tValues\n",
      "  (0, 1)\t(1+0j)\n",
      "  (1, 2)\t(1.4142135623730951+0j)\n",
      "  (2, 3)\t(1.7320508075688772+0j)\n",
      "  (3, 4)\t(2+0j)\n"
     ]
    }
   ],
   "source": [
    "# Creating a matrix for creation, annhilation operators\n",
    "def matrix(d):\n",
    "    eigenstate = []\n",
    "    rows = []\n",
    "    cols = []\n",
    "    for n in range(d-1):\n",
    "        rows.append(n)\n",
    "        cols.append(n+1)\n",
    "        eigenstate.append(np.sqrt(n+1))\n",
    "    return sp.csr_matrix((eigenstate,(rows,cols)), shape=(d,d), dtype=complex)\n",
    "\n",
    "print(matrix(d))"
   ]
  },
  {
   "cell_type": "code",
   "execution_count": 385,
   "id": "70d3182a-ed46-4230-b0b9-4d6bacbe9663",
   "metadata": {},
   "outputs": [],
   "source": [
    "\"Hamiltonian H has terms phi^2 , pi^2, phi^4 which act on single sites and interaction term (phi_i+1-phi_i)^2 acting on more than one state for which tensor product is necessary\"\n",
    "# Single-site operators\n",
    "a= matrix(d) #annhilation operator\n",
    "adag= np.transpose(np.conjugate(a)) #creation operator\n",
    "phi_single= (a+adag)/np.sqrt(2*omega) # position operator \n",
    "pi_single= -1j*np.sqrt(omega/2)*(a-adag) #conjugate momentum"
   ]
  },
  {
   "cell_type": "code",
   "execution_count": 386,
   "id": "fb8bb070-8850-48a3-bc00-2c01f72531c8",
   "metadata": {},
   "outputs": [],
   "source": [
    "I_d = sp.identity(d, format='csr', dtype=complex)\n",
    "\n",
    "# Taking the Kronecker product\n",
    "def kron_prod_sparse(Hamiltonian_single):\n",
    "    result=Hamiltonian_single[0]\n",
    "    for M in Hamiltonian_single[1:]:\n",
    "        result=sp.kron(result, M, format='csr')\n",
    "    return result\n",
    "# Positioning each operator in the global Hamiltonian matrix\n",
    "def op_on_site(single_op,site,N):\n",
    "    Hamiltonian_single = [I_d]*N\n",
    "    Hamiltonian_single[site]=single_op\n",
    "    return kron_prod_sparse(Hamiltonian_single)\n",
    "\n",
    "# Building the global Hamiltonian\n",
    "def build_hamiltonian(N,d,m,lam,omega,periodic=False):\n",
    "    dim = d**N\n",
    "    H = sp.csr_matrix((dim,dim), dtype=complex)\n",
    "    # on-site terms\n",
    "    phi2 = phi_single.dot(phi_single)\n",
    "    phi4 = phi2.dot(phi2)\n",
    "    pi2 = pi_single.dot(pi_single)\n",
    "\n",
    "    for i in range(N):\n",
    "        H+= 1/2 *op_on_site(pi2,i,N)\n",
    "        H+= 1/2 *m**2 * op_on_site(phi2,i,N)\n",
    "        H+= 1/4 *lam* op_on_site(phi4,i,N)\n",
    "\n",
    "    # (phi_i - phi_j)^2 / 2 term\n",
    "    for i in range(N):\n",
    "        j=np.remainder(i+1,N) if periodic else i+1\n",
    "        if j>= N:\n",
    "            continue\n",
    "        phi_i=op_on_site(phi_single,i,N)\n",
    "        phi_j=op_on_site(phi_single,j,N)\n",
    "        diff=phi_i-phi_j\n",
    "        H+=1/2*np.dot(diff,diff)\n",
    "\n",
    "    # ensure Hermitian numeric\n",
    "    H=(H+np.transpose(np.transpose(H)))/2\n",
    "    return H\n"
   ]
  },
  {
   "cell_type": "code",
   "execution_count": 387,
   "id": "af27a345-952a-432b-bdb2-e6b905cb5f55",
   "metadata": {},
   "outputs": [],
   "source": [
    "# Reference diagonalization\n",
    "\n",
    "def reference_groundstate(H,k=1,which='SA'):\n",
    "    if min(H.shape)<=2000:\n",
    "        vals,vecs= np.linalg.eigh(H.toarray())\n",
    "        return vals[0].real,vecs[:,0]\n",
    "    else:\n",
    "        vals,vecs= spla.eigsh(H,k=k,which=which)\n",
    "        idx= np.argsort(vals)\n",
    "        return vals[idx[0]].real,vecs[:,idx[0]]\n"
   ]
  },
  {
   "cell_type": "code",
   "execution_count": 388,
   "id": "897f76ef-6e52-4596-a62e-cf77bc88cc78",
   "metadata": {},
   "outputs": [
    {
     "name": "stdout",
     "output_type": "stream",
     "text": [
      "Trace: 25.0  expected: 25\n",
      "error = 0.0\n"
     ]
    }
   ],
   "source": [
    "# Mapping Fock to qubit\n",
    "def build_binary_embedding(N,d):\n",
    "    k=int(np.ceil(np.log2(d)))#We need 2^k>=d so that all physical states at that site fit in the qubit space\n",
    "    total_qubits=k*N\n",
    "    dim=d**N\n",
    "    dim_qubit=2**total_qubits\n",
    "    U= sp.lil_matrix((dim_qubit,dim), dtype=complex)\n",
    "    fock_indices= list(itertools.product(range(d),repeat=N))\n",
    "    for col_idx,fock_state in enumerate(fock_indices):\n",
    "        bits=[]\n",
    "        for n in fock_state:\n",
    "            b= bin(n)[2:].zfill(k)\n",
    "            bits.append(b)\n",
    "        bitstring=''\n",
    "        for i in bits[::-1]:\n",
    "            bitstring+= i\n",
    "        comp_index=int(bitstring,2)\n",
    "        U[comp_index,col_idx]=1\n",
    "    return U.tocsr(),total_qubits\n",
    "\n",
    "# Projector onto the embedded Fock subspace\n",
    "U, total_qubits= build_binary_embedding(N, d)\n",
    "U_full= U.toarray()\n",
    "\n",
    "# Build projector onto physical subspace\n",
    "Pi= np.dot(U_full,np.transpose(np.conjugate(U_full)))\n",
    "\n",
    "trace_Pi= np.trace(Pi).real #checks that all Fock states are included\n",
    "print(\"Trace:\",trace_Pi,\" expected:\",d**N)\n",
    "\n",
    "proj_error= np.linalg.norm(np.dot(Pi,Pi) - Pi) #checks that Pi is a valid projector (idempotent)\n",
    "print(\"error =\",proj_error)\n"
   ]
  },
  {
   "cell_type": "code",
   "execution_count": 389,
   "id": "ca5e6db4-5da7-4829-a01e-f5cd3d09651b",
   "metadata": {},
   "outputs": [
    {
     "name": "stdout",
     "output_type": "stream",
     "text": [
      "Energy of mapped basis state: 2.1875\n",
      "Energy of unused (null) basis state: 0.0\n"
     ]
    }
   ],
   "source": [
    "dim_qubit = H_qubit.shape[0] #full qubit space\n",
    "\n",
    "#Picking a physical basis vector\n",
    "phys_idx= np.where(np.sum(U.toarray(),axis=1) > 0)[0][0]  #first row with nonzero entries\n",
    "phys_vec= U.toarray()[:,phys_idx]\n",
    "phys_vec= phys_vec/np.linalg.norm(phys_vec)\n",
    "E_phys= np.real(np.vdot(phys_vec, H_qubit @ phys_vec))\n",
    "# Picking a null qubit-space vector\n",
    "all_basis= np.eye(dim_qubit, dtype=complex)\n",
    "for i in range(dim_qubit):\n",
    "    if np.allclose(Pi[i, i],0):\n",
    "        null_vec= all_basis[:, i]\n",
    "        break\n",
    "E_null= np.real(np.vdot(null_vec,H_qubit @ null_vec))\n",
    "print(\"Energy of mapped basis state:\",E_phys)\n",
    "print(\"Energy of unused (null) basis state:\",E_null)"
   ]
  },
  {
   "cell_type": "code",
   "execution_count": 390,
   "id": "31a06e48-c6ba-4837-bf14-e3d417b08a97",
   "metadata": {},
   "outputs": [],
   "source": [
    "alpha= 50  # choose larger than typical ground-state energy\n",
    "dim_qubit= H_qubit.shape[0]\n",
    "I= np.eye(dim_qubit)\n",
    "\n",
    "# Penalized Hamiltonian\n",
    "H_qubit_penalized= H_qubit+alpha*(I-Pi)\n",
    "#alpha acts like a barrier that keeps the variational algorithm constrained to valid states since (I−Pi) picks out any unphysical components,and a large energy penalty alpha is added to any component in the unphysical space.\n"
   ]
  },
  {
   "cell_type": "code",
   "execution_count": 391,
   "id": "4f9d1402-07dc-4256-bd78-9c482dec42b9",
   "metadata": {},
   "outputs": [],
   "source": [
    "# Pauli matrices (dense small) \n",
    "_paulis = {'I': np.array([[1,0],[0,1]], dtype=complex),\n",
    "    'X': np.array([[0,1],[1,0]], dtype=complex),\n",
    "    'Y': np.array([[0,-1j],[1j,0]], dtype=complex),\n",
    "    'Z': np.array([[1,0],[0,-1]], dtype=complex)}"
   ]
  },
  {
   "cell_type": "code",
   "execution_count": 392,
   "id": "67c29e67-3b0e-4100-8472-952043269903",
   "metadata": {},
   "outputs": [],
   "source": [
    "# Pauli decomposition \n",
    "def pauli_decompose(H_qubit,max_terms=1000,tol=1e-12):\n",
    "    dim= H_qubit.shape[0]\n",
    "    Q= int(np.log2(dim))\n",
    "    assert 2**Q== dim\n",
    "    H= H_qubit\n",
    "    terms= []\n",
    "    # iterate over pauli strings \n",
    "    chars= ['I','X','Y','Z']\n",
    "    for pauli_string in itertools.product(chars,repeat=Q):\n",
    "        # build operator\n",
    "        m= [_paulis[c] for c in pauli_string]\n",
    "        P= m[0]\n",
    "        for M in m[1:]:\n",
    "            P= np.kron(P, M)\n",
    "        coeff= np.trace(P.conj().T.dot(H)) / dim\n",
    "        if abs(coeff)> tol:\n",
    "            terms.append((coeff, ''.join(pauli_string)))\n",
    "        if len(terms)>= max_terms:\n",
    "            break\n",
    "\n",
    "    terms.sort(key=lambda x:-abs(x[0]))\n",
    "    return terms"
   ]
  },
  {
   "cell_type": "code",
   "execution_count": 393,
   "id": "f51afafe-a7f9-4e6e-ae3e-dbf9c730f5b3",
   "metadata": {},
   "outputs": [],
   "source": [
    "# Converting pauli terms to pennylane Hamiltonian\n",
    "def pauli_terms_to_qml_hamiltonian(pauli_terms):\n",
    "    coeffs=[]\n",
    "    obs=[]\n",
    "    for coeff, pstr in pauli_terms:\n",
    "        opt=[]\n",
    "        for q,c in enumerate(pstr):\n",
    "            if c=='I':\n",
    "                continue\n",
    "            if c=='X':\n",
    "                opt.append(qml.PauliX(wires=q))\n",
    "            if c=='Y':\n",
    "                opt.append(qml.PauliY(wires=q))\n",
    "            if c=='Z':\n",
    "                opt.append(qml.PauliZ(wires=q))\n",
    "        if len(opt)==0:\n",
    "            obs.append(qml.Identity(wires=0))\n",
    "        elif len(opt)==1:\n",
    "            obs.append(opt[0])\n",
    "        else:\n",
    "            # tensor product of ops\n",
    "            tens= opt[0]\n",
    "            for op in opt[1:]:\n",
    "                tens= tens @ op\n",
    "            obs.append(tens)\n",
    "        coeffs.append(np.real_if_close(coeff))\n",
    "    return qml.Hamiltonian(coeffs,obs)"
   ]
  },
  {
   "cell_type": "code",
   "execution_count": 394,
   "id": "c6fe5a00-4990-4844-a147-165a48de8907",
   "metadata": {},
   "outputs": [],
   "source": [
    "# VQE (pennylane)\n",
    "def run_vqe(H_qubit,total_qubits,init_layers=2,maxiter=500,printing_gap=10):\n",
    "    H_dense= np.array(H_qubit.todense()) if sp.issparse(H_qubit) else np.array(H_qubit)\n",
    "    pauli_terms= pauli_decompose(H_dense, max_terms=max_pauli_terms)\n",
    "    print(\"Number of pauli terms:{len(pauli_terms)}\")\n",
    "\n",
    "    ham= pauli_terms_to_qml_hamiltonian(pauli_terms)\n",
    "    dev= qml.device(\"default.qubit\", wires=total_qubits)\n",
    "\n",
    "    n_layers= init_layers\n",
    "    ansatz= qml.templates.StronglyEntanglingLayers\n",
    "\n",
    "    @qml.qnode(dev, interface='autograd')\n",
    "    def circuit(params):\n",
    "        ansatz(params,wires=list(range(total_qubits)))\n",
    "        return qml.expval(ham)\n",
    "\n",
    "    params= pnp.array(0.1 * np.random.randn(n_layers, total_qubits, 3), requires_grad=True)\n",
    "    opt= qml.AdamOptimizer(stepsize=0.05)\n",
    "    energies=[]\n",
    "    all_params = []\n",
    "\n",
    "    for it in range(maxiter):\n",
    "        params,energy= opt.step_and_cost(circuit, params)\n",
    "        energies.append(energy)\n",
    "        if it % printing_gap== 0 or it== maxiter-1:\n",
    "            print(f\"Iter {it:4d}- E={energy:.8f}\")\n",
    "    return energies,energies[-1]"
   ]
  },
  {
   "cell_type": "code",
   "execution_count": 395,
   "id": "8c848715-7eaf-482a-b8f1-a9e525e2b3e2",
   "metadata": {},
   "outputs": [
    {
     "name": "stdout",
     "output_type": "stream",
     "text": [
      "Hamiltonian dimension: (25, 25)\n",
      "Reference ground energy: 1.6844487824446772\n",
      "Total qubits (binary encoding): 6\n",
      "Number of pauli terms:{len(pauli_terms)}\n",
      "Iter    0- E=3.24152768\n",
      "Iter   10- E=2.14630844\n",
      "Iter   20- E=2.01991015\n",
      "Iter   30- E=1.99246424\n",
      "Iter   40- E=1.98827436\n",
      "Iter   50- E=1.98667486\n",
      "Iter   60- E=1.98541155\n",
      "Iter   70- E=1.98532633\n",
      "Iter   80- E=1.98521251\n",
      "Iter   90- E=1.98516137\n",
      "Iter  100- E=1.98510942\n",
      "Iter  110- E=1.98509811\n",
      "Iter  119- E=1.98509716\n",
      "VQE final energy: 1.9850971619131583\n"
     ]
    },
    {
     "data": {
      "image/png": "[encoded data removed]",
      "text/plain": [
       "<Figure size 640x480 with 1 Axes>"
      ]
     },
     "metadata": {},
     "output_type": "display_data"
    }
   ],
   "source": [
    "# Execution example\n",
    "H= global_hamiltonian(N,d,m,lam,omega,periodic=periodic)\n",
    "print(\"Hamiltonian dimension:\", H.shape)\n",
    "\n",
    "E0_ref,psi0= reference_groundstate(H)\n",
    "print(\"Reference ground energy:\", E0_ref)\n",
    "\n",
    "# Map to qubit space\n",
    "U,total_qubits= build_binary_embedding(N,d)\n",
    "print(\"Total qubits (binary encoding):\", total_qubits)\n",
    "dim_qubit= 2**total_qubits\n",
    "# embed H into qubit space\n",
    "H_qubit= np.dot(np.dot(U,H),U.getH())\n",
    "\n",
    "if total_qubits<= 8:\n",
    "    energies,E_vqe= run_vqe(H_qubit_penalized,total_qubits,init_layers=2,maxiter=120,printing_gap=10)\n",
    "    print(\"VQE final energy:\",E_vqe)\n",
    "    # plot convergence\n",
    "    plt.plot(energies,marker='o')\n",
    "    plt.axhline(E0_ref,color='k',linestyle='--',label='Exact')\n",
    "    plt.xlabel('Iteration')\n",
    "    plt.ylabel('Energy')\n",
    "    plt.legend()\n",
    "    plt.title('VQE convergence')\n",
    "    plt.show()\n",
    "else:\n",
    "     print('Qubit space too large...')\n"
   ]
  },
  {
   "cell_type": "code",
   "execution_count": 396,
   "id": "85f3b4da-2377-47d9-899b-55a291ba4236",
   "metadata": {},
   "outputs": [
    {
     "data": {
      "image/png": "[encoded data removed]",
      "text/plain": [
       "<Figure size 600x400 with 1 Axes>"
      ]
     },
     "metadata": {},
     "output_type": "display_data"
    }
   ],
   "source": [
    "vals, _ = spla.eigsh(H_qubit_penalized, k=min(50, H_qubit_penalized.shape[0]), which='SA')\n",
    "plt.figure(figsize=(6,4))\n",
    "plt.hist(vals.real, bins=20, color='skyblue', edgecolor='k')\n",
    "plt.xlabel('Eigenvalue')\n",
    "plt.ylabel('Count')\n",
    "plt.title('Spectrum of H_qubit')\n",
    "plt.show()\n"
   ]
  },
  {
   "cell_type": "code",
   "execution_count": 397,
   "id": "a937f15c-f3a7-4159-9679-458bc9b437e4",
   "metadata": {},
   "outputs": [
    {
     "data": {
      "image/png": "[encoded data removed]",
      "text/plain": [
       "<Figure size 600x400 with 1 Axes>"
      ]
     },
     "metadata": {},
     "output_type": "display_data"
    }
   ],
   "source": [
    "errors = [abs(e - E0_ref) for e in energies]\n",
    "plt.figure(figsize=(6,4))\n",
    "plt.semilogy(errors, marker='x')\n",
    "plt.xlabel('Iteration')\n",
    "plt.ylabel('|E_VQE - E_exact|')\n",
    "plt.title('VQE Error Convergence (log scale)')\n",
    "plt.grid(True)\n",
    "plt.show()\n"
   ]
  },
  {
   "cell_type": "code",
   "execution_count": null,
   "id": "70e5a0d4-ef0c-4352-8941-33fa6bb7606b",
   "metadata": {},
   "outputs": [],
   "source": []
  }
 ],
 "metadata": {
  "kernelspec": {
   "display_name": "Python [conda env:base] *",
   "language": "python",
   "name": "conda-base-py"
  },
  "language_info": {
   "codemirror_mode": {
    "name": "ipython",
    "version": 3
   },
   "file_extension": ".py",
   "mimetype": "text/x-python",
   "name": "python",
   "nbconvert_exporter": "python",
   "pygments_lexer": "ipython3",
   "version": "3.13.5"
  }
 },
 "nbformat": 4,
 "nbformat_minor": 5
}
